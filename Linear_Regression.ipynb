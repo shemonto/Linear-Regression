{
  "cells": [
    {
      "cell_type": "code",
      "execution_count": null,
      "metadata": {
        "id": "BYpAgb4uNWfe"
      },
      "outputs": [],
      "source": [
        "import pandas as pd\n",
        "import numpy as np\n",
        "import matplotlib.pyplot as plt "
      ]
    },
    {
      "cell_type": "code",
      "execution_count": null,
      "metadata": {
        "id": "aJQrNZVpNWfi"
      },
      "outputs": [],
      "source": [
        "data = pd.read_csv(\"Linear_regression_dataset.csv\", header=None)\n",
        "df = pd.DataFrame(data)"
      ]
    },
    {
      "cell_type": "code",
      "execution_count": null,
      "metadata": {
        "id": "D-GGt7IiNWfi"
      },
      "outputs": [],
      "source": [
        "x1 = df.iloc[:,[0]].values\n",
        "x2 = df.iloc[:,[1]].values\n",
        "y = df.iloc[:,[2]].values\n",
        " "
      ]
    },
    {
      "cell_type": "code",
      "execution_count": null,
      "metadata": {
        "id": "kS2Hy_M5NWfj",
        "outputId": "ffe718e8-2c76-4b72-e162-58166371f2a4"
      },
      "outputs": [
        {
          "name": "stdout",
          "output_type": "stream",
          "text": [
            "90 148 95.80000000000001 45.6 20 24 19.5\n"
          ]
        }
      ],
      "source": [
        "sum_x1 = np.sum(x1)\n",
        "sum_x2 = np.sum(x2)\n",
        "sum_y = np.sum(y) \n",
        "sum_x1_square = np.sum(x1*x1)\n",
        "sum_x2_square = np.sum(x2*x2)\n",
        "x1_into_y = np.sum(x1*y)\n",
        "x2_into_y = np.sum(x2*y)\n",
        "\n",
        "print(sum_x1_square , sum_x2_square, x1_into_y, x2_into_y, sum_x1, sum_x2, sum_y)"
      ]
    },
    {
      "cell_type": "code",
      "execution_count": null,
      "metadata": {
        "id": "k3hN2gnzNWfk",
        "outputId": "5c3573bf-7c7a-4301-b8e3-0c847ec21ced"
      },
      "outputs": [
        {
          "name": "stdout",
          "output_type": "stream",
          "text": [
            "10.0\n"
          ]
        }
      ],
      "source": [
        "SUM_X1_SQ = sum_x1_square - ((sum_x1*sum_x1)/x1.size)\n",
        "print(SUM_X1_SQ)"
      ]
    },
    {
      "cell_type": "code",
      "execution_count": null,
      "metadata": {
        "id": "BwFWbR5qNWfl",
        "outputId": "76732179-2b30-4146-9581-30f2e8ac917f"
      },
      "outputs": [
        {
          "name": "stdout",
          "output_type": "stream",
          "text": [
            "32.8\n"
          ]
        }
      ],
      "source": [
        "SUM_X2_SQ = sum_x2_square - ((sum_x2*sum_x2)/x2.size)\n",
        "print(SUM_X2_SQ)"
      ]
    },
    {
      "cell_type": "code",
      "execution_count": null,
      "metadata": {
        "id": "8njjsvOsNWfl"
      },
      "outputs": [],
      "source": [
        "#sum_x1_square = 90\n",
        "#sum_x2_square = 148\n",
        "#x1_into_y = 95.80000000000001\n",
        "#x2_into_y = 45.6\n",
        "#sum_x1 = 20\n",
        "#sum_x2 = 24\n",
        "#sum_y = 19.5"
      ]
    },
    {
      "cell_type": "code",
      "execution_count": null,
      "metadata": {
        "id": "iJypVAuVNWfm",
        "outputId": "8fe46fbd-cd11-4feb-9b1c-bceb42513704"
      },
      "outputs": [
        {
          "name": "stdout",
          "output_type": "stream",
          "text": [
            "17.80000000000001\n"
          ]
        }
      ],
      "source": [
        "CROSS_X1_INTO_Y = x1_into_y - ((sum_x1*sum_y)/x1.size)\n",
        "print(CROSS_X1_INTO_Y)"
      ]
    },
    {
      "cell_type": "code",
      "execution_count": null,
      "metadata": {
        "id": "cUhkrF-eNWfn",
        "outputId": "4edf2d01-4111-46ee-e637-ee182989666f"
      },
      "outputs": [
        {
          "name": "stdout",
          "output_type": "stream",
          "text": [
            "-47.99999999999999\n"
          ]
        }
      ],
      "source": [
        "CROSS_X2_INTO_Y = x2_into_y - ((sum_x2*sum_y)/x1.size)\n",
        "print(CROSS_X2_INTO_Y)\n"
      ]
    },
    {
      "cell_type": "code",
      "execution_count": null,
      "metadata": {
        "id": "tgG03zNuNWfn",
        "outputId": "216e8768-4e72-4ab3-ee12-5a1376f78373"
      },
      "outputs": [
        {
          "name": "stdout",
          "output_type": "stream",
          "text": [
            "3.0\n"
          ]
        }
      ],
      "source": [
        "SUM_OF_X1_X2 = np.sum(x1*x2) - (sum_x1*sum_x2)/x1.size\n",
        "print(SUM_OF_X1_X2)"
      ]
    },
    {
      "cell_type": "code",
      "execution_count": null,
      "metadata": {
        "id": "JWZzqLwcNWfo",
        "outputId": "5e4210c5-2dd4-4d9e-84a3-7b6eea4d5f8d"
      },
      "outputs": [
        {
          "name": "stdout",
          "output_type": "stream",
          "text": [
            "2.2816300940438885\n"
          ]
        }
      ],
      "source": [
        "b1 = (SUM_X2_SQ*CROSS_X1_INTO_Y - SUM_OF_X1_X2*CROSS_X2_INTO_Y)/(SUM_X1_SQ*SUM_X2_SQ - (SUM_OF_X1_X2*SUM_OF_X1_X2))\n",
        "print(b1)"
      ]
    },
    {
      "cell_type": "code",
      "execution_count": null,
      "metadata": {
        "id": "OXD_nQhkNWfo",
        "outputId": "63f579bf-743d-4530-f0d5-ae0bb46036e1"
      },
      "outputs": [
        {
          "name": "stdout",
          "output_type": "stream",
          "text": [
            "-1.6721003134796237\n"
          ]
        }
      ],
      "source": [
        "b2 = (SUM_X1_SQ*CROSS_X2_INTO_Y - SUM_OF_X1_X2*CROSS_X1_INTO_Y)/(SUM_X1_SQ*SUM_X2_SQ - (SUM_OF_X1_X2*SUM_OF_X1_X2))\n",
        "print(b2)"
      ]
    },
    {
      "cell_type": "code",
      "execution_count": null,
      "metadata": {
        "id": "livBfAYnNWfo",
        "outputId": "2f3eecc1-b369-403b-ccc7-5200fcf362e7"
      },
      "outputs": [
        {
          "name": "stdout",
          "output_type": "stream",
          "text": [
            "2.7995611285266406\n"
          ]
        }
      ],
      "source": [
        "b0 = np.mean(y) - (b1*sum_x1/x1.size) - b2*(sum_x2/x2.size)\n",
        "print(b0)"
      ]
    },
    {
      "cell_type": "code",
      "execution_count": null,
      "metadata": {
        "id": "Sj53-5-ZNWfp",
        "outputId": "52db4d67-16f0-4e1c-bcbb-9ced68881584"
      },
      "outputs": [
        {
          "data": {
            "text/plain": [
              "[<matplotlib.lines.Line2D at 0x7f6efc0848d0>]"
            ]
          },
          "execution_count": 192,
          "metadata": {},
          "output_type": "execute_result"
        },
        {
          "data": {
            "image/png": "[encoded data removed]",
            "text/plain": [
              "<Figure size 432x288 with 1 Axes>"
            ]
          },
          "metadata": {
            "needs_background": "light"
          },
          "output_type": "display_data"
        }
      ],
      "source": [
        "plt.scatter(x2, y, color = \"m\", marker = \"o\", s = 30) \n",
        "plt.scatter(x1, y, color = \"g\", marker = \"o\", s = 30) \n",
        "\n",
        "y_pred = b0 + b1*x1 + b2*x2\n",
        "\n",
        "plt.plot(x2, y_pred, color = \"g\") \n",
        "plt.plot(x1, y_pred, color = \"b\")\n",
        "#plt.show()\n",
        "\n",
        "#plt.scatter(x1,x2)"
      ]
    },
    {
      "cell_type": "code",
      "execution_count": null,
      "metadata": {
        "id": "dBV64nIzNWfp",
        "outputId": "e73028a0-1233-4531-e0c9-377473c70c17"
      },
      "outputs": [
        {
          "data": {
            "text/plain": [
              "[[3], [4], [5], [6], [2]]"
            ]
          },
          "execution_count": 161,
          "metadata": {},
          "output_type": "execute_result"
        }
      ],
      "source": [
        "y"
      ]
    },
    {
      "cell_type": "code",
      "execution_count": null,
      "metadata": {
        "id": "02yFuXElNWfq"
      },
      "outputs": [],
      "source": []
    }
  ],
  "metadata": {
    "kernelspec": {
      "display_name": "Python 3",
      "language": "python",
      "name": "python3"
    },
    "language_info": {
      "codemirror_mode": {
        "name": "ipython",
        "version": 3
      },
      "file_extension": ".py",
      "mimetype": "text/x-python",
      "name": "python",
      "nbconvert_exporter": "python",
      "pygments_lexer": "ipython3",
      "version": "3.7.4"
    },
    "colab": {
      "provenance": []
    }
  },
  "nbformat": 4,
  "nbformat_minor": 0
}